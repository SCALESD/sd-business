{
 "cells": [
  {
   "cell_type": "markdown",
   "id": "intimate-winter",
   "metadata": {},
   "source": [
    "#  Scratch pad to explore queries."
   ]
  },
  {
   "cell_type": "code",
   "execution_count": null,
   "id": "original-palace",
   "metadata": {},
   "outputs": [],
   "source": [
    "import pandas as pd\n",
    "import geopandas as gpd"
   ]
  },
  {
   "cell_type": "code",
   "execution_count": null,
   "id": "manufactured-relation",
   "metadata": {},
   "outputs": [],
   "source": [
    "ecb_gdf = gpd.read_file(\"../data/ecb.shp\")"
   ]
  },
  {
   "cell_type": "code",
   "execution_count": null,
   "id": "under-imperial",
   "metadata": {},
   "outputs": [],
   "source": [
    "ecb_gdf.columns"
   ]
  },
  {
   "cell_type": "code",
   "execution_count": null,
   "id": "medieval-network",
   "metadata": {},
   "outputs": [],
   "source": [
    "biz_df = pd.read_csv('../data/transformed.csv', sep='\\t').reset_index()\n",
    "biz_df['sector'] = biz_df['sector'].astype(str)"
   ]
  },
  {
   "cell_type": "code",
   "execution_count": null,
   "id": "combined-pollution",
   "metadata": {},
   "outputs": [],
   "source": [
    "biz_df.info()"
   ]
  },
  {
   "cell_type": "markdown",
   "id": "accredited-watch",
   "metadata": {},
   "source": [
    "## Looking at some queries"
   ]
  },
  {
   "cell_type": "code",
   "execution_count": null,
   "id": "medium-baseball",
   "metadata": {},
   "outputs": [],
   "source": [
    "biz_df.query(f\"zip_code == '92110' and years >= 5\")[:3]"
   ]
  },
  {
   "cell_type": "code",
   "execution_count": null,
   "id": "contained-humanitarian",
   "metadata": {},
   "outputs": [],
   "source": [
    "biz_df.query(f\"zip_code == '92110' and sector == '54'\")"
   ]
  },
  {
   "cell_type": "code",
   "execution_count": null,
   "id": "italian-fetish",
   "metadata": {},
   "outputs": [],
   "source": [
    "biz_df.query(f\"zip_code == '92110' and years >= 5 and sector == '54'\")"
   ]
  },
  {
   "cell_type": "code",
   "execution_count": null,
   "id": "favorite-fighter",
   "metadata": {},
   "outputs": [],
   "source": [
    "biz_df.query(f\"sector == '54'\")['zip_code'].value_counts()"
   ]
  },
  {
   "cell_type": "code",
   "execution_count": null,
   "id": "greenhouse-delaware",
   "metadata": {},
   "outputs": [],
   "source": [
    "biz_df.query(f\"years == 25 and zip_code == '92110'\")['sector_desc'].value_counts()"
   ]
  },
  {
   "cell_type": "code",
   "execution_count": null,
   "id": "minute-nothing",
   "metadata": {},
   "outputs": [],
   "source": [
    "biz_df.years.value_counts()[:10]"
   ]
  },
  {
   "cell_type": "code",
   "execution_count": null,
   "id": "arranged-hanging",
   "metadata": {},
   "outputs": [],
   "source": [
    "len(_)"
   ]
  },
  {
   "cell_type": "code",
   "execution_count": null,
   "id": "powerful-jewel",
   "metadata": {},
   "outputs": [],
   "source": [
    "biz_df.query(f\"years <= 5 and zip_code == '92110'\")['sector_desc'].value_counts()"
   ]
  },
  {
   "cell_type": "code",
   "execution_count": null,
   "id": "descending-hungarian",
   "metadata": {},
   "outputs": [],
   "source": [
    "len(_)"
   ]
  },
  {
   "cell_type": "code",
   "execution_count": null,
   "id": "continental-finding",
   "metadata": {},
   "outputs": [],
   "source": [
    "sum(__)"
   ]
  },
  {
   "cell_type": "code",
   "execution_count": null,
   "id": "verbal-holly",
   "metadata": {},
   "outputs": [],
   "source": [
    "prof_services_df = biz_df.query(f\"years <= 5 and zip_code == '92110' and sector == '54'\")"
   ]
  },
  {
   "cell_type": "code",
   "execution_count": null,
   "id": "other-sample",
   "metadata": {},
   "outputs": [],
   "source": [
    "prof_services_df"
   ]
  },
  {
   "cell_type": "code",
   "execution_count": null,
   "id": "collaborative-permission",
   "metadata": {},
   "outputs": [],
   "source": []
  }
 ],
 "metadata": {
  "kernelspec": {
   "display_name": "Python 3",
   "language": "python",
   "name": "python3"
  },
  "language_info": {
   "codemirror_mode": {
    "name": "ipython",
    "version": 3
   },
   "file_extension": ".py",
   "mimetype": "text/x-python",
   "name": "python",
   "nbconvert_exporter": "python",
   "pygments_lexer": "ipython3",
   "version": "3.8.5"
  }
 },
 "nbformat": 4,
 "nbformat_minor": 5
}
