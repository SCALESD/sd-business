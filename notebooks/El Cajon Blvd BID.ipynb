{
 "cells": [
  {
   "cell_type": "markdown",
   "metadata": {},
   "source": [
    "# Implement standard map-based idioms to filter and display\n",
    "\n",
    "Steps:\n",
    "\n",
    "  1. Display the basic map.\n",
    "  \n",
    "  2. Read the geocoded shape file.\n",
    "  \n",
    "  3. Create markers (to be clustered) for all the businesses in the two zip codes. Create selection for all business and put it on the map.\n",
    "  \n",
    "  4. Read the BID shape files.\n",
    "  \n",
    "  5. Select the El Cajon BID.\n",
    "  \n",
    "  6. Find the businesses within the BID poly.  Create a second clustering for these buisness and put them on the map.\n",
    "  \n",
    "Note as you go through these steps the map display is changing.\n",
    "\n",
    "\n",
    "https://www.sandiego.gov/economic-development/about/bids"
   ]
  },
  {
   "cell_type": "code",
   "execution_count": null,
   "metadata": {},
   "outputs": [],
   "source": [
    "import geopandas as gpd\n",
    "from ipywidgets import HTML, Layout\n",
    "from ipyleaflet import (Map, MarkerCluster, LayersControl, CircleMarker,\n",
    "                       basemaps, basemap_to_tiles)\n",
    "\n",
    "from tqdm import tqdm"
   ]
  },
  {
   "cell_type": "code",
   "execution_count": null,
   "metadata": {},
   "outputs": [],
   "source": [
    "imagery = basemap_to_tiles(basemaps.Esri.WorldImagery)\n",
    "imagery.base = True\n",
    "osm = basemap_to_tiles(basemaps.OpenStreetMap.Mapnik)\n",
    "osm.base = True\n",
    "\n",
    "\n",
    "map_display = Map(center=(32.715, -117.1625), zoom=12,\n",
    "                  layers=[imagery, osm],\n",
    "                  layout=Layout(height=\"700px\"),\n",
    "                  scroll_wheel_zoom=True)\n",
    "\n",
    "map_display.add_control(LayersControl())\n",
    "map_display"
   ]
  },
  {
   "cell_type": "markdown",
   "metadata": {},
   "source": [
    "##  All businesses"
   ]
  },
  {
   "cell_type": "code",
   "execution_count": null,
   "metadata": {},
   "outputs": [],
   "source": [
    "my_gdf = gpd.read_file(\"../data/ecb.shp\").reset_index()"
   ]
  },
  {
   "cell_type": "code",
   "execution_count": null,
   "metadata": {},
   "outputs": [],
   "source": [
    "len(my_gdf)"
   ]
  },
  {
   "cell_type": "code",
   "execution_count": null,
   "metadata": {},
   "outputs": [],
   "source": [
    "my_gdf.info()"
   ]
  },
  {
   "cell_type": "code",
   "execution_count": null,
   "metadata": {},
   "outputs": [],
   "source": [
    "valid_geo_gdf = my_gdf.dropna(subset=['geometry']).reset_index()"
   ]
  },
  {
   "cell_type": "code",
   "execution_count": null,
   "metadata": {},
   "outputs": [],
   "source": [
    "len(my_gdf) - len(valid_geo_gdf)"
   ]
  },
  {
   "cell_type": "markdown",
   "metadata": {},
   "source": [
    "## Build the markers and put them on the map"
   ]
  },
  {
   "cell_type": "code",
   "execution_count": null,
   "metadata": {},
   "outputs": [],
   "source": [
    "business = list()\n",
    "for i, r in tqdm(valid_geo_gdf.iterrows()):\n",
    "    marker = CircleMarker(location=(r.geometry.y, r.geometry.x), radius=5, stroke=False, fill_color=\"blue\", fill_opacity=1.0)\n",
    "    msg = HTML()\n",
    "    msg.value = f\"{r['DBA NAME']}\"\n",
    "    marker.popup = msg\n",
    "    business.append(marker)\n",
    "    valid_geo_gdf.iloc[i]['marker'] = marker\n",
    "valid_geo_gdf['marker'] = business"
   ]
  },
  {
   "cell_type": "code",
   "execution_count": null,
   "metadata": {},
   "outputs": [],
   "source": [
    "business_cluster = MarkerCluster(markers=business, name='Businesses')\n",
    "map_display.add_layer(business_cluster)\n",
    "\n",
    "#map_display.add_control(LayersControl())"
   ]
  },
  {
   "cell_type": "markdown",
   "metadata": {},
   "source": [
    "## Read the BID shape file"
   ]
  },
  {
   "cell_type": "code",
   "execution_count": null,
   "metadata": {},
   "outputs": [],
   "source": [
    "bids_gdf = gpd.read_file(\"../data/bids/bids_datasd.shp\")\n",
    "\n",
    "bids_gdf = bids_gdf.to_crs(epsg=4326)"
   ]
  },
  {
   "cell_type": "code",
   "execution_count": null,
   "metadata": {},
   "outputs": [],
   "source": [
    "bids_gdf"
   ]
  },
  {
   "cell_type": "code",
   "execution_count": null,
   "metadata": {},
   "outputs": [],
   "source": [
    "ecb_bid = bids_gdf.query(f\"name == 'El Cajon Boulevard Central'\").reset_index()"
   ]
  },
  {
   "cell_type": "code",
   "execution_count": null,
   "metadata": {},
   "outputs": [],
   "source": [
    "ecb_bid"
   ]
  },
  {
   "cell_type": "markdown",
   "metadata": {},
   "source": [
    "## Filter based on the polygon"
   ]
  },
  {
   "cell_type": "code",
   "execution_count": null,
   "metadata": {},
   "outputs": [],
   "source": [
    "ecb_biz_gdf = valid_geo_gdf[valid_geo_gdf.geometry.within(ecb_bid.iloc[0].geometry)]"
   ]
  },
  {
   "cell_type": "code",
   "execution_count": null,
   "metadata": {},
   "outputs": [],
   "source": [
    "len(ecb_biz_gdf)"
   ]
  },
  {
   "cell_type": "code",
   "execution_count": null,
   "metadata": {},
   "outputs": [],
   "source": [
    "ecb_biz_gdf.columns"
   ]
  },
  {
   "cell_type": "code",
   "execution_count": null,
   "metadata": {},
   "outputs": [],
   "source": [
    "ecb_biz_gdf = ecb_biz_gdf.drop(columns=['level_0']).reset_index()"
   ]
  },
  {
   "cell_type": "markdown",
   "metadata": {},
   "source": [
    "## Create the second set up businesses for the map"
   ]
  },
  {
   "cell_type": "code",
   "execution_count": null,
   "metadata": {},
   "outputs": [],
   "source": [
    "ecb_business = list()\n",
    "for i, r in tqdm(ecb_biz_gdf.iterrows()):\n",
    "    marker = CircleMarker(location=(r.geometry.y, r.geometry.x), radius=5, stroke=False, fill_color=\"blue\", fill_opacity=1.0)\n",
    "    msg = HTML()\n",
    "    msg.value = f\"{r['DBA NAME']}\"\n",
    "    marker.popup = msg\n",
    "    ecb_business.append(marker)\n",
    "    ecb_biz_gdf.iloc[i]['marker'] = marker\n",
    "ecb_biz_gdf['marker'] = ecb_business"
   ]
  },
  {
   "cell_type": "code",
   "execution_count": null,
   "metadata": {},
   "outputs": [],
   "source": [
    "ecb_business_cluster = MarkerCluster(markers=ecb_business, name='Boulevard Businesses')\n",
    "map_display.add_layer(ecb_business_cluster)"
   ]
  },
  {
   "cell_type": "code",
   "execution_count": null,
   "metadata": {},
   "outputs": [],
   "source": []
  }
 ],
 "metadata": {
  "kernelspec": {
   "display_name": "Python 3",
   "language": "python",
   "name": "python3"
  },
  "language_info": {
   "codemirror_mode": {
    "name": "ipython",
    "version": 3
   },
   "file_extension": ".py",
   "mimetype": "text/x-python",
   "name": "python",
   "nbconvert_exporter": "python",
   "pygments_lexer": "ipython3",
   "version": "3.8.5"
  }
 },
 "nbformat": 4,
 "nbformat_minor": 4
}
