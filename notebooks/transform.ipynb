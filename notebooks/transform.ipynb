{
 "cells": [
  {
   "cell_type": "markdown",
   "id": "aging-ukraine",
   "metadata": {},
   "source": [
    "# Read and examine the business data set\n",
    "\n",
    "For starters I need to get a basic understanding of the data.  It is a **open data set of businesses** in San Diego.  It was obtained from government sources.  I was given an excel (xlsx) file.  \n",
    "\n",
    "- Saved the `data worksheet` from xlsx file as csv (it's just easier)\n",
    "- Use `pandas` to read and maniputate the dataframe\n",
    "- First step is understand the data (shape, dtypes, info(), etc)\n",
    "\n",
    "The `output` from this processing is a new geo dataframe for further, problem specific analysis."
   ]
  },
  {
   "cell_type": "code",
   "execution_count": null,
   "id": "infectious-lying",
   "metadata": {},
   "outputs": [],
   "source": [
    "import pandas as pd\n",
    "import geopandas as gpd\n",
    "from geopandas import GeoDataFrame\n",
    "from shapely.geometry import Point\n",
    "import osmnx as ox"
   ]
  },
  {
   "cell_type": "markdown",
   "id": "opposed-adams",
   "metadata": {},
   "source": [
    "### Read the data"
   ]
  },
  {
   "cell_type": "code",
   "execution_count": null,
   "id": "described-advertising",
   "metadata": {},
   "outputs": [],
   "source": [
    "biz_df = pd.read_csv('../data/biz_data.csv', sep='\\t', index_col=0)"
   ]
  },
  {
   "cell_type": "markdown",
   "id": "burning-sucking",
   "metadata": {},
   "source": [
    "### Examine layout and structure of the dataframe"
   ]
  },
  {
   "cell_type": "code",
   "execution_count": null,
   "id": "dedicated-insert",
   "metadata": {},
   "outputs": [],
   "source": [
    "biz_df.shape"
   ]
  },
  {
   "cell_type": "code",
   "execution_count": null,
   "id": "considerable-mixer",
   "metadata": {},
   "outputs": [],
   "source": [
    "biz_df.info()"
   ]
  },
  {
   "cell_type": "code",
   "execution_count": null,
   "id": "affected-fifth",
   "metadata": {},
   "outputs": [],
   "source": [
    "biz_df.isnull().sum()"
   ]
  },
  {
   "cell_type": "code",
   "execution_count": null,
   "id": "indie-physiology",
   "metadata": {},
   "outputs": [],
   "source": [
    "print(\"missing business phone numbers: {:.2%}\".format(biz_df['BUSINESS PHONE'].isnull().sum() / len(biz_df)))"
   ]
  },
  {
   "cell_type": "markdown",
   "id": "suited-company",
   "metadata": {},
   "source": [
    "# Examine, rework, and extend dtypes\n",
    "\n",
    "Next some basic analysis of dtypes.  There are two types in the data set, int64 and object (str).  The column with the most missing values is the phone number for now that's ok.  The specific values I want to transform are:\n",
    "\n",
    "1. NAICS - This is an int in the input source. We need a character representation\n",
    "\n",
    "2. ZIP - this value is really zip+4 as object (i.e. str)\n",
    "  \n",
    "3. Dates - There are three date variables.  They are strings in the input data.  It's easy to convert to py datetime so ...\n",
    "\n",
    "4. Geocode - Using osmnx api to osm"
   ]
  },
  {
   "cell_type": "markdown",
   "id": "canadian-lithuania",
   "metadata": {},
   "source": [
    "## NAICS\n",
    "\n",
    "  - Convert to str\n",
    "  - For starters, use the first to char's for sector (will worry about more detail later)\n",
    "\n"
   ]
  },
  {
   "cell_type": "code",
   "execution_count": null,
   "id": "certified-hunter",
   "metadata": {},
   "outputs": [],
   "source": [
    "naics_desc = pd.read_excel('../data/2017_NAICS_Descriptions.xls')\n",
    "\n",
    "naics_desc['Code'] = naics_desc['Code'].astype(str)\n",
    "\n",
    "lookup_dict = naics_desc[['Code', 'Title']].set_index('Code')['Title'].to_dict()\n",
    "\n",
    "def lookup(key):\n",
    "    if key in ('48', '49'):\n",
    "        key = '48-49'\n",
    "    if key in ('44', '45'):\n",
    "        key = '44-45'\n",
    "    if key in ('31', '32', '33'):\n",
    "        key = \"31-33\"\n",
    "        \n",
    "    desc = lookup_dict[key]\n",
    "    if desc[-1:] == 'T':\n",
    "        desc = desc[:-1]\n",
    "        \n",
    "    return desc.rstrip()"
   ]
  },
  {
   "cell_type": "code",
   "execution_count": null,
   "id": "exposed-combination",
   "metadata": {},
   "outputs": [],
   "source": [
    "biz_df['sector'] = biz_df['NAICS'].astype(str).apply(lambda x: x[:2])"
   ]
  },
  {
   "cell_type": "code",
   "execution_count": null,
   "id": "standard-dutch",
   "metadata": {},
   "outputs": [],
   "source": [
    "biz_df['sector_desc'] = biz_df['sector'].apply(lambda x: lookup(x) + f\"({x})\")"
   ]
  },
  {
   "cell_type": "code",
   "execution_count": null,
   "id": "surprising-provision",
   "metadata": {},
   "outputs": [],
   "source": [
    "biz_df.sector.value_counts()"
   ]
  },
  {
   "cell_type": "code",
   "execution_count": null,
   "id": "convertible-killer",
   "metadata": {},
   "outputs": [],
   "source": [
    "biz_df.sector_desc.value_counts(normalize=True) #* 100"
   ]
  },
  {
   "cell_type": "markdown",
   "id": "ignored-intent",
   "metadata": {},
   "source": [
    "## ZIP\n",
    "\n",
    "  - createing new column called zip_code\n",
    "  - easy string hack to get the actual zip"
   ]
  },
  {
   "cell_type": "code",
   "execution_count": null,
   "id": "young-platinum",
   "metadata": {},
   "outputs": [],
   "source": [
    "biz_df['zip_code'] = biz_df['ZIP'].apply(lambda x: x.split('-')[0].strip())"
   ]
  },
  {
   "cell_type": "code",
   "execution_count": null,
   "id": "cardiovascular-restaurant",
   "metadata": {},
   "outputs": [],
   "source": [
    "biz_df.iloc[27]"
   ]
  },
  {
   "cell_type": "code",
   "execution_count": null,
   "id": "exterior-surgery",
   "metadata": {},
   "outputs": [],
   "source": [
    "biz_92110 = biz_df.query(f\"zip_code == '92110'\").reset_index()"
   ]
  },
  {
   "cell_type": "code",
   "execution_count": null,
   "id": "romantic-executive",
   "metadata": {},
   "outputs": [],
   "source": [
    "len(biz_92110)"
   ]
  },
  {
   "cell_type": "markdown",
   "id": "accessory-trademark",
   "metadata": {},
   "source": [
    "## ZIP codes around Boulevard BID\n",
    "\n",
    "This section will filter the larger biz_df to include only those in zip codes related to the Blvd BID."
   ]
  },
  {
   "cell_type": "code",
   "execution_count": null,
   "id": "covered-spokesman",
   "metadata": {},
   "outputs": [],
   "source": [
    "zips = ['92115', '92116']"
   ]
  },
  {
   "cell_type": "code",
   "execution_count": null,
   "id": "peaceful-playing",
   "metadata": {},
   "outputs": [],
   "source": [
    "ecb_df = biz_df.query(f\"zip_code in @zips\")"
   ]
  },
  {
   "cell_type": "code",
   "execution_count": null,
   "id": "public-planner",
   "metadata": {},
   "outputs": [],
   "source": [
    "len(ecb_df)"
   ]
  },
  {
   "cell_type": "code",
   "execution_count": null,
   "id": "shared-deputy",
   "metadata": {},
   "outputs": [],
   "source": [
    "len(biz_df.query(f\"zip_code == '92115'\"))"
   ]
  },
  {
   "cell_type": "code",
   "execution_count": null,
   "id": "realistic-relevance",
   "metadata": {},
   "outputs": [],
   "source": [
    "len(biz_df.query(f\"zip_code == '92116'\"))"
   ]
  },
  {
   "cell_type": "code",
   "execution_count": null,
   "id": "skilled-listening",
   "metadata": {},
   "outputs": [],
   "source": [
    "ecb_df.columns"
   ]
  },
  {
   "cell_type": "markdown",
   "id": "spanish-mainland",
   "metadata": {},
   "source": [
    "## Datetime\n",
    "\n",
    "Date time types not supported in ESRI driver for shape files, so just leave this alone for now."
   ]
  },
  {
   "cell_type": "code",
   "execution_count": null,
   "id": "lesbian-telephone",
   "metadata": {},
   "outputs": [],
   "source": [
    "biz_df.columns"
   ]
  },
  {
   "cell_type": "code",
   "execution_count": null,
   "id": "speaking-promotion",
   "metadata": {},
   "outputs": [],
   "source": [
    "biz_df['CREATION DT'] = pd.to_datetime(biz_df['CREATION DT'])\n",
    "biz_df['START DT'] = pd.to_datetime(biz_df['START DT'], errors='coerce')\n",
    "biz_df['EXP DT'] = pd.to_datetime(biz_df['EXP DT'])"
   ]
  },
  {
   "cell_type": "code",
   "execution_count": null,
   "id": "happy-surgeon",
   "metadata": {},
   "outputs": [],
   "source": [
    "biz_df.info()"
   ]
  },
  {
   "cell_type": "code",
   "execution_count": null,
   "id": "intensive-salon",
   "metadata": {},
   "outputs": [],
   "source": [
    "# build the ecb df again with transformed columns\n",
    "ecb_df = biz_df.query(f\"zip_code in @zips\")"
   ]
  },
  {
   "cell_type": "code",
   "execution_count": null,
   "id": "casual-gospel",
   "metadata": {},
   "outputs": [],
   "source": [
    "ecb_df.info()"
   ]
  },
  {
   "cell_type": "markdown",
   "id": "electric-departure",
   "metadata": {},
   "source": [
    "## Gecode\n",
    "\n",
    "Geocoding uses the Nominatim service of OSM.  The terms of use state one request per second so the wrapper function handles that."
   ]
  },
  {
   "cell_type": "code",
   "execution_count": null,
   "id": "homeless-cookbook",
   "metadata": {},
   "outputs": [],
   "source": [
    "def good_address(addr):\n",
    "    if addr.find('SUITE') > 0:\n",
    "        return addr[:addr.find('SUITE')-1]\n",
    "    else:\n",
    "        return addr"
   ]
  },
  {
   "cell_type": "code",
   "execution_count": null,
   "id": "nasty-invention",
   "metadata": {},
   "outputs": [],
   "source": [
    "import time\n",
    "def geocode_address(row):\n",
    "    \"\"\"\n",
    "    Special function applied to a zip_code transformed row.  \n",
    "    \n",
    "    Notes:\n",
    "      1. nominatim terms of use require one query per sec so we sleep on each iteration.\n",
    "      2. When we get no match, returning None so we can query for\n",
    "         invalid geo's later.\n",
    "    \"\"\"\n",
    "    time.sleep(1)\n",
    "    good_addr = good_address(row.ADDRESS)\n",
    "    geocode_query = f\"{good_addr}, {row.CITY}, {row.STATE}, {row.zip_code}\"\n",
    "    try:\n",
    "        lat, lon = ox.geocode(geocode_query)\n",
    "        return Point(lon, lat)\n",
    "    except:\n",
    "        print(geocode_query)\n",
    "        return None #Point(lon, lat).wkt"
   ]
  },
  {
   "cell_type": "code",
   "execution_count": null,
   "id": "lightweight-serve",
   "metadata": {},
   "outputs": [],
   "source": [
    "# An example for row 27\n",
    "row = ecb_df.iloc[27]\n",
    "query = f\"{good_address(row.ADDRESS)}, {row.CITY}, {row.STATE}, {row.zip_code}\"\n",
    "print(\"Address to geocode: \" + query)\n",
    "\n",
    "\n",
    "geocode_address(biz_df.iloc[27]).xy"
   ]
  },
  {
   "cell_type": "code",
   "execution_count": null,
   "id": "single-delicious",
   "metadata": {},
   "outputs": [],
   "source": [
    "ecb_df.zip_code.value_counts()"
   ]
  },
  {
   "cell_type": "code",
   "execution_count": null,
   "id": "looking-scoop",
   "metadata": {},
   "outputs": [],
   "source": [
    "#back of the envelope calc for time to compute - This simple hack estimates the minutes required to geocode.\n",
    "len(ecb_df) / 60."
   ]
  },
  {
   "cell_type": "code",
   "execution_count": null,
   "id": "coordinated-genre",
   "metadata": {},
   "outputs": [],
   "source": [
    "#%%timeit\n",
    "ecb_df['geometry'] = ecb_df.apply(lambda r: geocode_address(r), axis=1)"
   ]
  },
  {
   "cell_type": "code",
   "execution_count": null,
   "id": "norman-roots",
   "metadata": {},
   "outputs": [],
   "source": [
    "ecb_gdf = GeoDataFrame(ecb_df, geometry=ecb_df.geometry)"
   ]
  },
  {
   "cell_type": "code",
   "execution_count": null,
   "id": "interracial-convention",
   "metadata": {},
   "outputs": [],
   "source": [
    "ecb_gdf.geometry.isnull().sum()"
   ]
  },
  {
   "cell_type": "code",
   "execution_count": null,
   "id": "exotic-tourist",
   "metadata": {},
   "outputs": [],
   "source": [
    "ecb_gdf.to_file(\"../data/ecb.shp\")"
   ]
  },
  {
   "cell_type": "code",
   "execution_count": null,
   "id": "respiratory-phoenix",
   "metadata": {},
   "outputs": [],
   "source": [
    "print(\"Unable to geocode: {:.2%} addresses\".format(ecb_gdf['geometry'].isnull().sum() / len(ecb_gdf)))"
   ]
  },
  {
   "cell_type": "markdown",
   "id": "civilian-diagram",
   "metadata": {},
   "source": [
    "### One last thing I'll add is a filtering function from the BID polygon.<br/>  For an example see the code in El Cajon Blvd BID.ipynb"
   ]
  },
  {
   "cell_type": "code",
   "execution_count": null,
   "id": "inner-sender",
   "metadata": {},
   "outputs": [],
   "source": [
    "biz_df.to_csv('../data/transformed.csv', sep='\\t')"
   ]
  },
  {
   "cell_type": "code",
   "execution_count": null,
   "id": "complimentary-islam",
   "metadata": {},
   "outputs": [],
   "source": []
  }
 ],
 "metadata": {
  "kernelspec": {
   "display_name": "Python 3",
   "language": "python",
   "name": "python3"
  },
  "language_info": {
   "codemirror_mode": {
    "name": "ipython",
    "version": 3
   },
   "file_extension": ".py",
   "mimetype": "text/x-python",
   "name": "python",
   "nbconvert_exporter": "python",
   "pygments_lexer": "ipython3",
   "version": "3.8.5"
  },
  "toc-autonumbering": false
 },
 "nbformat": 4,
 "nbformat_minor": 5
}
